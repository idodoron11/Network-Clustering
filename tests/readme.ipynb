{
 "cells": [
  {
   "cell_type": "markdown",
   "metadata": {
    "collapsed": false
   },
   "source": [
    "---\n",
    "title: Test File Format\n",
    "---\n",
    "\n",
    "-   The whole file consists of integers, split by spaces `‘ ‘` and line-breaks\n",
    "    `‘\\n’`.\n",
    "\n",
    "-   The first line (1) contains the dimension $$n$$ of the adjacency matrix.\n",
    "\n",
    "-   Lines $$2,...,n+1$$ represent the adjacency matrix. Namely, each row has\n",
    "    $$n$$ numbers, split by spaces, which represent the corresponding row\n",
    "    entries of the adjacency matrix.\n",
    "\n",
    "-   Line $$n+2$$ contains the number of communities (clusters) in the input\n",
    "    graph, denoted by $$k$$.\n",
    "\n",
    "-   Lines, $$(n+2)+1,...,(n+2)+k$$ represent - each - a vertices set in the\n",
    "    input graph. In each of these lines, the corresponding set members are\n",
    "    divided by spaces.\n",
    "\n",
    "It is unimportant to list the entries of the adjacency matrix in $$n$$ separate\n",
    "rows, though it makes the file more human-readable. If it is more convenient,\n",
    "you may represent the matrix using one big row of $$n^2$$ entries."
   ]
  }
 ],
 "metadata": {
  "kernelspec": {
   "display_name": "Python 3 (system-wide)",
   "language": "python",
   "metadata": {
    "cocalc": {
     "description": "Python 3 programming language",
     "priority": 100,
     "url": "https://www.python.org/"
    }
   },
   "name": "python3"
  },
  "language_info": {
   "codemirror_mode": {
    "name": "ipython",
    "version": 3
   },
   "file_extension": ".py",
   "mimetype": "text/x-python",
   "name": "python",
   "nbconvert_exporter": "python",
   "pygments_lexer": "ipython3",
   "version": "3.6.9"
  }
 },
 "nbformat": 4,
 "nbformat_minor": 4
}